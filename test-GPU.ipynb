{
 "cells": [
  {
   "cell_type": "code",
   "execution_count": 1,
   "id": "617a20f6",
   "metadata": {},
   "outputs": [],
   "source": [
    "from vmc.voxel_gpu import VMC\n",
    "import numpy as np\n",
    "import matplotlib.pyplot as plt\n"
   ]
  },
  {
   "cell_type": "code",
   "execution_count": 9,
   "id": "a99d993a",
   "metadata": {},
   "outputs": [],
   "source": [
    "params = {\n",
    "            'n':[1.4,1.5],\n",
    "            'n_air':1.,\n",
    "            'ma':[0.02,0.01],\n",
    "            'ms':[2.3,3.4],\n",
    "            'g':[0.9,0.9],\n",
    "            'end_point':False,\n",
    "            'voxel_space':0.1,\n",
    "}\n",
    "voxel_model = np.zeros((11,11,20))\n",
    "\n",
    "size_ = voxel_model.size\n",
    "index = np.where(np.random.rand(size_)>0.5)\n",
    "voxel_model.reshape(-1)[index] = 1\n"
   ]
  },
  {
   "cell_type": "code",
   "execution_count": 10,
   "id": "1ae9b24c",
   "metadata": {},
   "outputs": [
    {
     "data": {
      "image/png": "[encoded data removed]",
      "text/plain": [
       "<Figure size 432x288 with 1 Axes>"
      ]
     },
     "metadata": {
      "needs_background": "light"
     },
     "output_type": "display_data"
    }
   ],
   "source": [
    "plt.imshow(voxel_model[:,:,8])\n",
    "plt.show()"
   ]
  },
  {
   "cell_type": "code",
   "execution_count": 11,
   "id": "22d5463c",
   "metadata": {},
   "outputs": [
    {
     "data": {
      "text/plain": [
       "(11, 11, 20)"
      ]
     },
     "execution_count": 11,
     "metadata": {},
     "output_type": "execute_result"
    }
   ],
   "source": [
    "voxel_model.shape"
   ]
  },
  {
   "cell_type": "code",
   "execution_count": 12,
   "id": "9365aa2f",
   "metadata": {},
   "outputs": [
    {
     "name": "stdout",
     "output_type": "stream",
     "text": [
      "Shape of voxel_model -> (13, 13, 22)\n",
      "Memory area size for voxel storage: 0.004 Mbyte\n"
     ]
    }
   ],
   "source": [
    "nPh = 1e7\n",
    "model = VMC(nPh = nPh)\n",
    "model.set_model(voxel_model)\n",
    "\n",
    "model.set_params(**params)\n",
    "model.build()"
   ]
  },
  {
   "cell_type": "code",
   "execution_count": 13,
   "id": "aa2a628b",
   "metadata": {},
   "outputs": [
    {
     "data": {
      "image/png": "[encoded data removed]",
      "text/plain": [
       "<Figure size 500x500 with 1 Axes>"
      ]
     },
     "metadata": {
      "needs_background": "light"
     },
     "output_type": "display_data"
    },
    {
     "data": {
      "image/png": "[encoded data removed]",
      "text/plain": [
       "<Figure size 500x500 with 1 Axes>"
      ]
     },
     "metadata": {
      "needs_background": "light"
     },
     "output_type": "display_data"
    }
   ],
   "source": [
    "model.get_model_fig()"
   ]
  },
  {
   "cell_type": "code",
   "execution_count": 14,
   "id": "f8251383",
   "metadata": {},
   "outputs": [
    {
     "name": "stdout",
     "output_type": "stream",
     "text": [
      "\n",
      "###### Start (Random seed: 61408) ######\n",
      "\n",
      "###### End ######\n",
      "######\n",
      "Mean Rd 0.256999\n",
      "Mean Td 0.681379\n",
      "\n",
      "Calculation time: 0 minutes 1.786 seconds.\n"
     ]
    }
   ],
   "source": [
    "model = model.start()"
   ]
  },
  {
   "cell_type": "code",
   "execution_count": 15,
   "id": "238fd9cc",
   "metadata": {},
   "outputs": [
    {
     "data": {
      "text/plain": [
       "{'p': array([[ 0.19862059,  0.3714801 ,  0.10373669, ...,  0.2461088 ,\n",
       "         -0.55      ,  0.33263266],\n",
       "        [-0.27067068,  0.48465815, -0.5070273 , ...,  0.55      ,\n",
       "         -0.52867365,  0.08080444],\n",
       "        [ 0.        ,  0.        ,  2.        , ...,  1.955437  ,\n",
       "          1.70558   ,  2.        ]], dtype=float32),\n",
       " 'v': array([[ 0.34027576, -0.78822994,  0.46826816, ...,  0.2439867 ,\n",
       "         -0.4626006 , -0.5953044 ],\n",
       "        [ 0.4952562 , -0.41500568, -0.24600306, ...,  0.7091642 ,\n",
       "         -0.31490958, -0.34126556],\n",
       "        [-0.79933333, -0.4543829 ,  0.84865034, ...,  0.6614806 ,\n",
       "          0.8287537 ,  0.7274274 ]], dtype=float32),\n",
       " 'w': array([0.93334365, 0.9120877 , 0.9283021 , ..., 0.94700575, 0.93060654,\n",
       "        0.9442286 ], dtype=float32),\n",
       " 'nPh': 10000000}"
      ]
     },
     "execution_count": 15,
     "metadata": {},
     "output_type": "execute_result"
    }
   ],
   "source": [
    "model.get_result()"
   ]
  },
  {
   "cell_type": "code",
   "execution_count": null,
   "id": "8efef19a",
   "metadata": {},
   "outputs": [],
   "source": []
  }
 ],
 "metadata": {
  "kernelspec": {
   "display_name": "Python 3 (ipykernel)",
   "language": "python",
   "name": "python3"
  },
  "language_info": {
   "codemirror_mode": {
    "name": "ipython",
    "version": 3
   },
   "file_extension": ".py",
   "mimetype": "text/x-python",
   "name": "python",
   "nbconvert_exporter": "python",
   "pygments_lexer": "ipython3",
   "version": "3.8.12"
  }
 },
 "nbformat": 4,
 "nbformat_minor": 5
}
