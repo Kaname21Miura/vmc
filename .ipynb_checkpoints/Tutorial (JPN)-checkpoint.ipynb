{
 "cells": [
  {
   "cell_type": "markdown",
   "id": "ec707be2",
   "metadata": {},
   "source": [
    "# Voxel-baced Monte Calro (VMC)\n",
    "\n",
    "このNotebookは、ボクセルベースのモンテカルロシミュレーション（VMC）の使用法を説明したものです。練習問題を解くことで、一通りの使い方が習得できることを目指しました。なお、L. WangらのMCML（1992）を一通り理解し、それをPythonで実装できる程度のプログラミングスキルを有することを前提としています。コンテンツは次のようになります。\n",
    "\n",
    "1. VMCの基本\n",
    "    1. シミュレーションの準備をしよう\n",
    "    2. シミュレーションを動かしてみよう\n",
    "    3. 結果を保存してみよう\n",
    "    4. 結果を見てみよう\n",
    "    5. 練習問題\n"
   ]
  },
  {
   "cell_type": "markdown",
   "id": "ef747cb4",
   "metadata": {},
   "source": [
    "# 1. VMCの基本\n",
    "\n",
    "本章では、均質媒質の単層もしくは多層モデルを用いて、VMCの基本的な使用方法を説明します。\n",
    "\n",
    "\n",
    "\n",
    "## A. シミュレーションの準備をしよう\n",
    "\n",
    "まず、モジュールを使えるようにしましょう。モジュールを使うには、「vmc」と書かれたフォルダを、今記述しているnotebookと同じディレクトリに置きます。この「vmc」の中にはVMC本体と、初期値の設定や計算結果を保存するための諸関数がまとめられています。「vmc」フォルダが設置出来たら、モジュールをインポートしてみましょう。"
   ]
  },
  {
   "cell_type": "code",
   "execution_count": 2,
   "id": "ef90c6ae",
   "metadata": {},
   "outputs": [],
   "source": [
    "from vmc.voxel import VMC"
   ]
  },
  {
   "cell_type": "code",
   "execution_count": null,
   "id": "21188905",
   "metadata": {},
   "outputs": [],
   "source": []
  }
 ],
 "metadata": {
  "kernelspec": {
   "display_name": "Python 3 (ipykernel)",
   "language": "python",
   "name": "python3"
  },
  "language_info": {
   "codemirror_mode": {
    "name": "ipython",
    "version": 3
   },
   "file_extension": ".py",
   "mimetype": "text/x-python",
   "name": "python",
   "nbconvert_exporter": "python",
   "pygments_lexer": "ipython3",
   "version": "3.9.12"
  }
 },
 "nbformat": 4,
 "nbformat_minor": 5
}
