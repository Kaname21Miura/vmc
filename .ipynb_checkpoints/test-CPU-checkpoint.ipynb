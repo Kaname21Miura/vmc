{
 "cells": [
  {
   "cell_type": "code",
   "execution_count": 1,
   "id": "617a20f6",
   "metadata": {},
   "outputs": [],
   "source": [
    "from vmc.voxel import VMC\n",
    "import numpy as np\n"
   ]
  },
  {
   "cell_type": "code",
   "execution_count": 2,
   "id": "a99d993a",
   "metadata": {},
   "outputs": [],
   "source": [
    "params = {\n",
    "            'n':[1.4],\n",
    "            'n_air':1.,\n",
    "            'ma':[0.02374],\n",
    "            'ms':[2.374],\n",
    "            'g':[0.9],\n",
    "            'end_point':False,\n",
    "            'voxel_space':0.1,\n",
    "}\n",
    "voxel_model = np.zeros((11,11,11))"
   ]
  },
  {
   "cell_type": "code",
   "execution_count": 3,
   "id": "22d5463c",
   "metadata": {},
   "outputs": [
    {
     "data": {
      "text/plain": [
       "(11, 11, 11)"
      ]
     },
     "execution_count": 3,
     "metadata": {},
     "output_type": "execute_result"
    }
   ],
   "source": [
    "voxel_model.shape"
   ]
  },
  {
   "cell_type": "code",
   "execution_count": 4,
   "id": "9365aa2f",
   "metadata": {},
   "outputs": [],
   "source": [
    "nPh = 1e5\n",
    "model = VMC(nPh = nPh)\n",
    "model.set_model(voxel_model)\n",
    "\n",
    "model.set_params(**params)"
   ]
  },
  {
   "cell_type": "code",
   "execution_count": 5,
   "id": "cc498af4",
   "metadata": {},
   "outputs": [
    {
     "name": "stdout",
     "output_type": "stream",
     "text": [
      "Shape of voxel_model -> (13, 13, 13)\n",
      "Memory area size for voxel storage: 0.002 Mbyte\n"
     ]
    }
   ],
   "source": [
    "model.build()"
   ]
  },
  {
   "cell_type": "code",
   "execution_count": 6,
   "id": "f8251383",
   "metadata": {},
   "outputs": [
    {
     "name": "stdout",
     "output_type": "stream",
     "text": [
      "\n",
      "###### Start ######\n",
      "\n",
      "10  ％\n",
      "20  ％\n",
      "30  ％\n",
      "40  ％\n",
      "50  ％\n",
      "60  ％\n",
      "70  ％\n",
      "80  ％\n",
      "90  ％\n",
      "100  ％\n",
      "###### End ######\n",
      "######\n",
      "Mean Rd 0.125474\n",
      "Mean Td 0.816657\n",
      "\n",
      "Calculation time: 1 minutes 4.787 seconds.\n"
     ]
    }
   ],
   "source": [
    "model = model.start()"
   ]
  },
  {
   "cell_type": "code",
   "execution_count": 8,
   "id": "238fd9cc",
   "metadata": {},
   "outputs": [
    {
     "data": {
      "text/plain": [
       "{'p': array([[-0.02943215,  0.10232963,  0.10057598, ..., -0.22989321,\n",
       "         -0.09330319, -0.09936914],\n",
       "        [ 0.06883918, -0.0143044 ,  0.15180881, ...,  0.5350435 ,\n",
       "          0.19849157, -0.00362211],\n",
       "        [ 1.1       ,  1.1       ,  1.1       , ...,  1.1       ,\n",
       "          1.1       ,  0.        ]], dtype=float32),\n",
       " 'v': array([[-0.11570202,  0.08014587,  0.5626963 , ..., -0.35859072,\n",
       "         -0.11972112, -0.5767656 ],\n",
       "        [-0.03130076, -0.2520533 ,  0.3527539 , ...,  0.8517521 ,\n",
       "          0.28735048,  0.23544966],\n",
       "        [ 0.99279064,  0.9643888 ,  0.74762124, ...,  0.3820092 ,\n",
       "          0.9503139 , -0.78224355]], dtype=float32),\n",
       " 'w': array([0.9530656, 0.9530656, 0.9342864, ..., 0.9530656, 0.9530656,\n",
       "        0.9250361], dtype=float32),\n",
       " 'nPh': 100000}"
      ]
     },
     "execution_count": 8,
     "metadata": {},
     "output_type": "execute_result"
    }
   ],
   "source": [
    "model.get_result()"
   ]
  },
  {
   "cell_type": "code",
   "execution_count": 10,
   "id": "aa2a628b",
   "metadata": {},
   "outputs": [
    {
     "data": {
      "image/png": "[encoded data removed]",
      "text/plain": [
       "<Figure size 500x500 with 1 Axes>"
      ]
     },
     "metadata": {
      "needs_background": "light"
     },
     "output_type": "display_data"
    },
    {
     "data": {
      "image/png": "[encoded data removed]",
      "text/plain": [
       "<Figure size 600x500 with 1 Axes>"
      ]
     },
     "metadata": {
      "needs_background": "light"
     },
     "output_type": "display_data"
    }
   ],
   "source": [
    "model.get_model_fig()"
   ]
  },
  {
   "cell_type": "code",
   "execution_count": null,
   "id": "8efef19a",
   "metadata": {},
   "outputs": [],
   "source": []
  }
 ],
 "metadata": {
  "kernelspec": {
   "display_name": "Python 3 (ipykernel)",
   "language": "python",
   "name": "python3"
  },
  "language_info": {
   "codemirror_mode": {
    "name": "ipython",
    "version": 3
   },
   "file_extension": ".py",
   "mimetype": "text/x-python",
   "name": "python",
   "nbconvert_exporter": "python",
   "pygments_lexer": "ipython3",
   "version": "3.8.12"
  }
 },
 "nbformat": 4,
 "nbformat_minor": 5
}
